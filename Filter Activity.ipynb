{
  "nbformat": 4,
  "nbformat_minor": 0,
  "metadata": {
    "colab": {
      "provenance": []
    },
    "kernelspec": {
      "name": "python3",
      "display_name": "Python 3"
    },
    "language_info": {
      "name": "python"
    }
  },
  "cells": [
    {
      "cell_type": "markdown",
      "source": [
        "## Individual Activity: : Applying Filters to Images with OpenCV\n",
        "\n",
        "In this hands-on activity, you will use the OpenCV library (cv2) to apply convolutional filters (kernels) to images, aiming to comprehend how these filters generate low-level features from images. The goal is to visually observe the impact of different filters on image characteristics and gain an intuitive understanding of convolution operations."
      ],
      "metadata": {
        "id": "2quahTbJVwWV"
      }
    },
    {
      "cell_type": "markdown",
      "source": [
        "###Step 1:\n",
        "Mount your Google Drive on your Google Colab runtime:"
      ],
      "metadata": {
        "id": "CWmk80eIcK1M"
      }
    },
    {
      "cell_type": "code",
      "execution_count": 1,
      "metadata": {
        "colab": {
          "base_uri": "https://localhost:8080/"
        },
        "id": "-7JvFsX1Vqxj",
        "outputId": "7b614aa7-fe9c-4471-8dfd-57150f6adf40"
      },
      "outputs": [
        {
          "output_type": "stream",
          "name": "stdout",
          "text": [
            "Mounted at /content/drive\n"
          ]
        }
      ],
      "source": [
        "from google.colab import drive\n",
        "drive.mount('/content/drive')"
      ]
    },
    {
      "cell_type": "markdown",
      "source": [
        "###Step 2:\n",
        "Import required libraries."
      ],
      "metadata": {
        "id": "PtQtH9GXW1dH"
      }
    },
    {
      "cell_type": "code",
      "source": [
        "import matplotlib.pyplot as plt\n",
        "import matplotlib.image as mpimg\n",
        "import cv2\n",
        "import numpy as np"
      ],
      "metadata": {
        "id": "U6wj0fL1W2Ey"
      },
      "execution_count": 2,
      "outputs": []
    },
    {
      "cell_type": "markdown",
      "source": [
        "###Step 3:\n",
        "Upload the image \"shapes.jpg\" into your google drive, copy its path and save it into the path variable below:"
      ],
      "metadata": {
        "id": "NpdbOyHKWSxS"
      }
    },
    {
      "cell_type": "code",
      "source": [
        "path = ''"
      ],
      "metadata": {
        "id": "m-ux6RyhWfu1"
      },
      "execution_count": 60,
      "outputs": []
    },
    {
      "cell_type": "markdown",
      "source": [
        "###Step 4:\n",
        "Read the image and plot it."
      ],
      "metadata": {
        "id": "U2qJaNs9WyYc"
      }
    },
    {
      "cell_type": "code",
      "source": [
        "image = mpimg.imread(path)\n",
        "plt.imshow(image)"
      ],
      "metadata": {
        "id": "Iq53r3dqWzGu"
      },
      "execution_count": 61,
      "outputs": []
    },
    {
      "cell_type": "markdown",
      "source": [
        "###Step 5:\n",
        "Convert the image to grayscale for filtering."
      ],
      "metadata": {
        "id": "uVI33uLcXJ1p"
      }
    },
    {
      "cell_type": "code",
      "source": [
        "image_gray = cv2.cvtColor(image, cv2.COLOR_RGB2GRAY)\n",
        "plt.imshow(image_gray, cmap='gray')"
      ],
      "metadata": {
        "id": "uJta01LcXK9j"
      },
      "execution_count": 61,
      "outputs": []
    },
    {
      "cell_type": "markdown",
      "source": [
        "### Step 6:\n",
        "Now let's define some filters:\n",
        "\n",
        "### Horizontal Filters\n",
        "Let's define 3 different horizontal filters:"
      ],
      "metadata": {
        "id": "K0utNF6eXkoE"
      }
    },
    {
      "cell_type": "code",
      "source": [
        "filter_1 = np.array([[-1,-2,-1],\n",
        "                     [ 0, 0, 0],\n",
        "                     [ 1, 2, 1]])\n",
        "\n",
        "filter_2 = np.array([[-1,-2,-1],\n",
        "                     [ 0, -3,0],\n",
        "                     [ 1, 2, 1]])\n",
        "\n",
        "filter_3 = np.array([[-1,-2,-1],\n",
        "                     [ 0, 3, 0],\n",
        "                     [ 1, 2, 1]])"
      ],
      "metadata": {
        "id": "z0ugEeZZXxEy"
      },
      "execution_count": 58,
      "outputs": []
    },
    {
      "cell_type": "markdown",
      "source": [
        "Let's apply them to the image one by one:"
      ],
      "metadata": {
        "id": "TKAv6mlicUHH"
      }
    },
    {
      "cell_type": "code",
      "source": [
        "filtered_image_1 = cv2.filter2D(image_gray, -1, filter_1)\n",
        "filtered_image_2 = cv2.filter2D(image_gray, -1, filter_2)\n",
        "filtered_image_3 = cv2.filter2D(image_gray, -1, filter_3)\n",
        "\n",
        "f, ax = plt.subplots(1, 3, figsize=(16, 4))\n",
        "ax[0].set_title('Filter 1', fontsize=14)\n",
        "ax[0].imshow(filtered_image_1, cmap='gray')\n",
        "ax[1].set_title('Filter 2', fontsize=14)\n",
        "ax[1].imshow(filtered_image_2, cmap='gray')\n",
        "ax[2].set_title('Filter 3', fontsize=14)\n",
        "ax[2].imshow(filtered_image_3, cmap='gray')"
      ],
      "metadata": {
        "id": "I-_hDDvOaXwY"
      },
      "execution_count": 61,
      "outputs": []
    },
    {
      "cell_type": "markdown",
      "source": [
        "### Vertical Filters\n",
        "Let's define 3 different vertical filters:"
      ],
      "metadata": {
        "id": "kJhM1ezxbYDP"
      }
    },
    {
      "cell_type": "code",
      "source": [
        "filter_4 = np.array([[-1, 0, 1],\n",
        "                     [-2, 0, 2],\n",
        "                     [-1, 0, 1]])\n",
        "\n",
        "filter_5 = np.array([[-1, 0, 1],\n",
        "                     [-2, -3,2],\n",
        "                     [-1, 0, 1]])\n",
        "\n",
        "filter_6 = np.array([[-1, 0, 1],\n",
        "                     [-2, 3, 2],\n",
        "                     [-1, 0, 1]])"
      ],
      "metadata": {
        "id": "u8n8l1bJas1R"
      },
      "execution_count": 31,
      "outputs": []
    },
    {
      "cell_type": "markdown",
      "source": [
        "Now to apply the above filters, complete this code using the struture of previous section (Horizontal Filters):"
      ],
      "metadata": {
        "id": "zsRnwotEcllH"
      }
    },
    {
      "cell_type": "code",
      "source": [
        "# YOUR CODE HERE ..."
      ],
      "metadata": {
        "id": "8R1wor-hcY_n"
      },
      "execution_count": 30,
      "outputs": []
    },
    {
      "cell_type": "markdown",
      "source": [
        "### X-Filters\n",
        "Let's define 3 different X filters:"
      ],
      "metadata": {
        "id": "hDM-CEt1dOrt"
      }
    },
    {
      "cell_type": "code",
      "source": [
        "filter_7 = np.array([[2, -1, 2],\n",
        "                     [-1, 4,-1],\n",
        "                     [2, -1, 2]])\n",
        "\n",
        "filter_8 = np.array([[2, -2, 2],\n",
        "                     [-2, 4,-2],\n",
        "                     [2, -2, 2]])\n",
        "\n",
        "filter_9 = np.array([[2, -3, 2],\n",
        "                     [-3, 4,-3],\n",
        "                     [2, -3, 2]])"
      ],
      "metadata": {
        "id": "RJ-xq1mmc-h7"
      },
      "execution_count": 37,
      "outputs": []
    },
    {
      "cell_type": "markdown",
      "source": [
        "Now to apply the above filters, complete this code using the struture of previous sections:"
      ],
      "metadata": {
        "id": "YQ917E7qeck9"
      }
    },
    {
      "cell_type": "code",
      "source": [
        "# YOUR CODE HERE ..."
      ],
      "metadata": {
        "id": "IdcGleXFd66W"
      },
      "execution_count": null,
      "outputs": []
    },
    {
      "cell_type": "markdown",
      "source": [
        "### Step 7:\n",
        "\n",
        "Use your creativity to define 2-3 filters to provide some insights behind the funcionality of convolutional filters."
      ],
      "metadata": {
        "id": "JHGa_Dtyfl__"
      }
    },
    {
      "cell_type": "code",
      "source": [
        "filter_7 = # Your first filter ...\n",
        "\n",
        "filter_8 = # Your second filter ...\n",
        "\n",
        "filter_9 = # Your third filter ..."
      ],
      "metadata": {
        "id": "HlUatoaSgwrk"
      },
      "execution_count": null,
      "outputs": []
    },
    {
      "cell_type": "markdown",
      "source": [
        "Then apply them to the image:"
      ],
      "metadata": {
        "id": "8Jmj-bUEjYbU"
      }
    },
    {
      "cell_type": "code",
      "source": [
        "# YOUR CODE HERE ..."
      ],
      "metadata": {
        "id": "1R5d32ksjafL"
      },
      "execution_count": null,
      "outputs": []
    },
    {
      "cell_type": "markdown",
      "source": [
        "### Deliverables:\n",
        "\n",
        "Create a short summary of the results (screenshot in word) and a short discussion of what you learned including:\n",
        "\n",
        "- differences between the three filters in each case (e.g., for Hhorizontal filter, what is the difference between filter_1, filter_2, filter_3).\n",
        "- your understanding from this assignment.\n",
        "- any insight from your proposed filters."
      ],
      "metadata": {
        "id": "l0z10ymXjc0d"
      }
    },
    {
      "cell_type": "code",
      "source": [],
      "metadata": {
        "id": "C2I5OR31kT12"
      },
      "execution_count": null,
      "outputs": []
    }
  ]
}